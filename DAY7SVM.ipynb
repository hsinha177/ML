{
  "nbformat": 4,
  "nbformat_minor": 0,
  "metadata": {
    "colab": {
      "name": "Untitled",
      "version": "0.3.2",
      "provenance": [],
      "collapsed_sections": [],
      "include_colab_link": true
    },
    "kernelspec": {
      "name": "python3",
      "display_name": "Python 3"
    }
  },
  "cells": [
    {
      "cell_type": "markdown",
      "metadata": {
        "id": "view-in-github",
        "colab_type": "text"
      },
      "source": [
        "<a href=\"https://colab.research.google.com/github/hsinha177/ML/blob/SML/DAY7SVM.ipynb\" target=\"_parent\"><img src=\"https://colab.research.google.com/assets/colab-badge.svg\" alt=\"Open In Colab\"/></a>"
      ]
    },
    {
      "cell_type": "code",
      "metadata": {
        "id": "Bsz6mHVvLTZc",
        "colab_type": "code",
        "colab": {}
      },
      "source": [
        "from sklearn.datasets import load_digits"
      ],
      "execution_count": 0,
      "outputs": []
    },
    {
      "cell_type": "code",
      "metadata": {
        "id": "oBvT6C2XMfwi",
        "colab_type": "code",
        "colab": {}
      },
      "source": [
        "#loading digit data\n",
        "digit=load_digits()"
      ],
      "execution_count": 0,
      "outputs": []
    },
    {
      "cell_type": "code",
      "metadata": {
        "id": "0nb-MaNiMmFs",
        "colab_type": "code",
        "outputId": "3a70eb7b-976d-43ce-a1ce-2aefdcabbe02",
        "colab": {
          "base_uri": "https://localhost:8080/",
          "height": 34
        }
      },
      "source": [
        "dir(digit)"
      ],
      "execution_count": 0,
      "outputs": [
        {
          "output_type": "execute_result",
          "data": {
            "text/plain": [
              "['DESCR', 'data', 'images', 'target', 'target_names']"
            ]
          },
          "metadata": {
            "tags": []
          },
          "execution_count": 3
        }
      ]
    },
    {
      "cell_type": "code",
      "metadata": {
        "id": "0lzI5oEXMn4r",
        "colab_type": "code",
        "colab": {}
      },
      "source": [
        "features=digit.data"
      ],
      "execution_count": 0,
      "outputs": []
    },
    {
      "cell_type": "code",
      "metadata": {
        "id": "9Rc3pmJJMsIF",
        "colab_type": "code",
        "colab": {}
      },
      "source": [
        "label=digit.target"
      ],
      "execution_count": 0,
      "outputs": []
    },
    {
      "cell_type": "code",
      "metadata": {
        "id": "2H_RLXyHMveU",
        "colab_type": "code",
        "colab": {}
      },
      "source": [
        "#training &  testing\n",
        "from sklearn.model_selection import train_test_split\n",
        "X,x,Y,y=train_test_split(features,label,test_size=0.15)"
      ],
      "execution_count": 0,
      "outputs": []
    },
    {
      "cell_type": "code",
      "metadata": {
        "id": "AlzEbv8kNPC-",
        "colab_type": "code",
        "outputId": "a61a2354-c733-4e74-ec6a-54b6ae258722",
        "colab": {
          "base_uri": "https://localhost:8080/",
          "height": 286
        }
      },
      "source": [
        "import matplotlib.pyplot as plt\n",
        "plt.imshow(digit.images[8])"
      ],
      "execution_count": 0,
      "outputs": [
        {
          "output_type": "execute_result",
          "data": {
            "text/plain": [
              "<matplotlib.image.AxesImage at 0x7fb833612710>"
            ]
          },
          "metadata": {
            "tags": []
          },
          "execution_count": 24
        },
        {
          "output_type": "display_data",
          "data": {
            "image/png": "[encoded data removed]",
            "text/plain": [
              "<Figure size 432x288 with 1 Axes>"
            ]
          },
          "metadata": {
            "tags": []
          }
        }
      ]
    },
    {
      "cell_type": "code",
      "metadata": {
        "id": "-7CuE1KxNd22",
        "colab_type": "code",
        "colab": {}
      },
      "source": [
        "#now calling SVC\n",
        "from sklearn.svm import SVC"
      ],
      "execution_count": 0,
      "outputs": []
    },
    {
      "cell_type": "code",
      "metadata": {
        "id": "QM2EHTv4NlIs",
        "colab_type": "code",
        "colab": {}
      },
      "source": [
        "#calling classifier\n",
        "clf=SVC()"
      ],
      "execution_count": 0,
      "outputs": []
    },
    {
      "cell_type": "code",
      "metadata": {
        "id": "VXkdrPipO_SE",
        "colab_type": "code",
        "outputId": "68f8f223-9370-453c-a941-2537ff670b2e",
        "colab": {
          "base_uri": "https://localhost:8080/",
          "height": 72
        }
      },
      "source": [
        "#trainig my classifier\n",
        "train=clf.fit(X,Y)"
      ],
      "execution_count": 0,
      "outputs": [
        {
          "output_type": "stream",
          "text": [
            "/usr/local/lib/python3.6/dist-packages/sklearn/svm/base.py:193: FutureWarning: The default value of gamma will change from 'auto' to 'scale' in version 0.22 to account better for unscaled features. Set gamma explicitly to 'auto' or 'scale' to avoid this warning.\n",
            "  \"avoid this warning.\", FutureWarning)\n"
          ],
          "name": "stderr"
        }
      ]
    },
    {
      "cell_type": "code",
      "metadata": {
        "id": "_kFOgMG_PEt8",
        "colab_type": "code",
        "colab": {}
      },
      "source": [
        "#now time for prediction\n",
        "op=train.predict(x)"
      ],
      "execution_count": 0,
      "outputs": []
    },
    {
      "cell_type": "code",
      "metadata": {
        "id": "5CHMWP3RPPnz",
        "colab_type": "code",
        "outputId": "23a40530-1f8a-4c05-f3ba-ed33af41e105",
        "colab": {
          "base_uri": "https://localhost:8080/",
          "height": 247
        }
      },
      "source": [
        "op"
      ],
      "execution_count": 0,
      "outputs": [
        {
          "output_type": "execute_result",
          "data": {
            "text/plain": [
              "array([5, 3, 1, 4, 5, 5, 5, 0, 5, 5, 5, 5, 5, 5, 5, 5, 5, 5, 5, 5, 7, 2,\n",
              "       5, 9, 4, 4, 5, 5, 5, 5, 5, 0, 1, 3, 5, 5, 2, 5, 5, 1, 5, 6, 5, 9,\n",
              "       3, 9, 5, 6, 1, 2, 4, 5, 5, 5, 9, 1, 5, 6, 5, 3, 5, 3, 5, 5, 5, 5,\n",
              "       3, 5, 6, 5, 4, 3, 5, 5, 5, 9, 5, 4, 5, 5, 5, 6, 0, 6, 6, 9, 5, 5,\n",
              "       7, 1, 0, 4, 3, 5, 5, 6, 9, 5, 5, 5, 6, 5, 3, 5, 5, 5, 7, 9, 8, 7,\n",
              "       9, 5, 7, 3, 5, 5, 7, 7, 5, 6, 0, 5, 5, 9, 5, 5, 7, 5, 4, 6, 5, 5,\n",
              "       5, 5, 5, 5, 9, 3, 9, 3, 5, 5, 5, 5, 4, 5, 5, 5, 7, 5, 5, 5, 5, 5,\n",
              "       3, 5, 5, 5, 4, 1, 5, 5, 5, 5, 5, 0, 5, 0, 5, 5, 9, 5, 1, 0, 9, 5,\n",
              "       4, 6, 9, 5, 5, 5, 7, 5, 5, 5, 5, 5, 7, 3, 6, 5, 5, 5, 1, 6, 5, 7,\n",
              "       5, 5, 5, 5, 2, 9, 5, 5, 2, 3, 6, 4, 3, 6, 0, 5, 5, 5, 5, 6, 5, 0,\n",
              "       0, 5, 2, 0, 5, 5, 5, 0, 5, 5, 0, 7, 5, 5, 5, 5, 7, 5, 5, 5, 5, 1,\n",
              "       0, 5, 5, 4, 5, 9, 8, 3, 5, 5, 7, 4, 5, 3, 3, 5, 3, 2, 3, 5, 5, 5,\n",
              "       6, 5, 5, 3, 5, 6])"
            ]
          },
          "metadata": {
            "tags": []
          },
          "execution_count": 15
        }
      ]
    },
    {
      "cell_type": "code",
      "metadata": {
        "id": "6W4gclpgPUwU",
        "colab_type": "code",
        "outputId": "8b881f07-ecbb-4229-8f42-b00ed9f6c111",
        "colab": {
          "base_uri": "https://localhost:8080/",
          "height": 34
        }
      },
      "source": [
        "from sklearn.metrics import accuracy_score\n",
        "\n",
        "accuracy_score(op,y)"
      ],
      "execution_count": 0,
      "outputs": [
        {
          "output_type": "execute_result",
          "data": {
            "text/plain": [
              "0.5444444444444444"
            ]
          },
          "metadata": {
            "tags": []
          },
          "execution_count": 18
        }
      ]
    },
    {
      "cell_type": "code",
      "metadata": {
        "id": "2Np8Fs6UPjM-",
        "colab_type": "code",
        "colab": {}
      },
      "source": [
        ""
      ],
      "execution_count": 0,
      "outputs": []
    }
  ]
}