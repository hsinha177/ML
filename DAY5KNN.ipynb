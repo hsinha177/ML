{
  "nbformat": 4,
  "nbformat_minor": 0,
  "metadata": {
    "colab": {
      "name": "DAY5KNN.ipynb",
      "version": "0.3.2",
      "provenance": [],
      "collapsed_sections": []
    },
    "kernelspec": {
      "name": "python3",
      "display_name": "Python 3"
    }
  },
  "cells": [
    {
      "cell_type": "code",
      "metadata": {
        "id": "JMACHw6XdHxq",
        "colab_type": "code",
        "colab": {}
      },
      "source": [
        "#loading iris data set\n",
        "from sklearn.datasets import load_iris"
      ],
      "execution_count": 0,
      "outputs": []
    },
    {
      "cell_type": "code",
      "metadata": {
        "id": "PN8O4OFSgZzN",
        "colab_type": "code",
        "colab": {}
      },
      "source": [
        "#loading into a variable\n",
        "iris_data=load_iris()"
      ],
      "execution_count": 0,
      "outputs": []
    },
    {
      "cell_type": "code",
      "metadata": {
        "id": "eERH6qYdgi9T",
        "colab_type": "code",
        "colab": {
          "base_uri": "https://localhost:8080/",
          "height": 34
        },
        "outputId": "08bb21a1-b88c-4742-92d7-d0ec5d56f95d"
      },
      "source": [
        "#describing iris data\n",
        "dir(iris_data)"
      ],
      "execution_count": 9,
      "outputs": [
        {
          "output_type": "execute_result",
          "data": {
            "text/plain": [
              "['DESCR', 'data', 'feature_names', 'filename', 'target', 'target_names']"
            ]
          },
          "metadata": {
            "tags": []
          },
          "execution_count": 9
        }
      ]
    },
    {
      "cell_type": "code",
      "metadata": {
        "id": "Ksh0-OR4gpDw",
        "colab_type": "code",
        "colab": {
          "base_uri": "https://localhost:8080/",
          "height": 34
        },
        "outputId": "ab9a3012-da21-44fb-e1fa-0c7ea7b79fa9"
      },
      "source": [
        "#target o/p value\n",
        "iris_data.target_names"
      ],
      "execution_count": 10,
      "outputs": [
        {
          "output_type": "execute_result",
          "data": {
            "text/plain": [
              "array(['setosa', 'versicolor', 'virginica'], dtype='<U10')"
            ]
          },
          "metadata": {
            "tags": []
          },
          "execution_count": 10
        }
      ]
    },
    {
      "cell_type": "code",
      "metadata": {
        "id": "SK4NGF46g3xi",
        "colab_type": "code",
        "colab": {
          "base_uri": "https://localhost:8080/",
          "height": 85
        },
        "outputId": "6a67f770-ca83-4fec-b49b-88b24c283060"
      },
      "source": [
        "#now attribute of features of given data\n",
        "iris_data.feature_names"
      ],
      "execution_count": 11,
      "outputs": [
        {
          "output_type": "execute_result",
          "data": {
            "text/plain": [
              "['sepal length (cm)',\n",
              " 'sepal width (cm)',\n",
              " 'petal length (cm)',\n",
              " 'petal width (cm)']"
            ]
          },
          "metadata": {
            "tags": []
          },
          "execution_count": 11
        }
      ]
    },
    {
      "cell_type": "code",
      "metadata": {
        "id": "NP_AqmDwhGEd",
        "colab_type": "code",
        "colab": {}
      },
      "source": [
        "#data with attribute\n",
        "iris_features=iris_data.data"
      ],
      "execution_count": 0,
      "outputs": []
    },
    {
      "cell_type": "code",
      "metadata": {
        "id": "RgmMqyxyhLDs",
        "colab_type": "code",
        "colab": {}
      },
      "source": [
        "#extracting label as per feature\n",
        "label=iris_data.target"
      ],
      "execution_count": 0,
      "outputs": []
    },
    {
      "cell_type": "code",
      "metadata": {
        "id": "2dSx0abuhY5p",
        "colab_type": "code",
        "colab": {}
      },
      "source": [
        "#put your code for graphs"
      ],
      "execution_count": 0,
      "outputs": []
    },
    {
      "cell_type": "code",
      "metadata": {
        "id": "tL4l__v4hyFF",
        "colab_type": "code",
        "colab": {}
      },
      "source": [
        "#seprating data for training & testing\n",
        "from sklearn.model_selection import train_test_split\n",
        "train_data,test_data,train_label,test_label=train_test_split(iris_features,label,test_size=0.1)"
      ],
      "execution_count": 0,
      "outputs": []
    },
    {
      "cell_type": "code",
      "metadata": {
        "id": "ofWY9Z2lhgSM",
        "colab_type": "code",
        "colab": {}
      },
      "source": [
        "#importing KNN classifier\n",
        "from sklearn.neighbors import KNeighborsClassifier"
      ],
      "execution_count": 0,
      "outputs": []
    },
    {
      "cell_type": "code",
      "metadata": {
        "id": "KxOFA0cbkRQc",
        "colab_type": "code",
        "colab": {}
      },
      "source": [
        "#now calling KNN\n",
        "kclf=KNeighborsClassifier(n_neighbors=5)\n",
        "\n",
        "#5 is default value of K"
      ],
      "execution_count": 0,
      "outputs": []
    },
    {
      "cell_type": "code",
      "metadata": {
        "id": "15wO5IlGkpuO",
        "colab_type": "code",
        "colab": {}
      },
      "source": [
        "#applying training data\n",
        "ktrained=kclf.fit(train_data,train_label)"
      ],
      "execution_count": 0,
      "outputs": []
    },
    {
      "cell_type": "code",
      "metadata": {
        "id": "l13g7R6RlIHb",
        "colab_type": "code",
        "colab": {}
      },
      "source": [
        "# now time for prediction\n",
        "predict_output=ktrained.predict(test_data)"
      ],
      "execution_count": 0,
      "outputs": []
    },
    {
      "cell_type": "code",
      "metadata": {
        "id": "K3Nf4CFHlPuk",
        "colab_type": "code",
        "colab": {
          "base_uri": "https://localhost:8080/",
          "height": 34
        },
        "outputId": "6c9e2f4c-fd68-4906-d7db-1f22f755265f"
      },
      "source": [
        "predict_output"
      ],
      "execution_count": 25,
      "outputs": [
        {
          "output_type": "execute_result",
          "data": {
            "text/plain": [
              "array([0, 2, 0, 0, 2, 1, 2, 0, 2, 2, 1, 2, 0, 1, 2])"
            ]
          },
          "metadata": {
            "tags": []
          },
          "execution_count": 25
        }
      ]
    },
    {
      "cell_type": "code",
      "metadata": {
        "id": "6y1c7WAfld-J",
        "colab_type": "code",
        "colab": {
          "base_uri": "https://localhost:8080/",
          "height": 34
        },
        "outputId": "d8515388-9cad-4752-df9a-e88fea41ce6b"
      },
      "source": [
        "test_label"
      ],
      "execution_count": 26,
      "outputs": [
        {
          "output_type": "execute_result",
          "data": {
            "text/plain": [
              "array([0, 2, 0, 0, 2, 1, 2, 0, 2, 2, 1, 2, 0, 1, 2])"
            ]
          },
          "metadata": {
            "tags": []
          },
          "execution_count": 26
        }
      ]
    },
    {
      "cell_type": "code",
      "metadata": {
        "id": "DOJhCZL9lfMk",
        "colab_type": "code",
        "colab": {}
      },
      "source": [
        "#calculating accuracy\n",
        "from sklearn.metrics import accuracy_score"
      ],
      "execution_count": 0,
      "outputs": []
    },
    {
      "cell_type": "code",
      "metadata": {
        "id": "PkCE73Yalokb",
        "colab_type": "code",
        "colab": {
          "base_uri": "https://localhost:8080/",
          "height": 34
        },
        "outputId": "9949d3e7-16b3-42e3-e5ce-4da629150dd6"
      },
      "source": [
        "accuracy_score(test_label,predict_output)"
      ],
      "execution_count": 29,
      "outputs": [
        {
          "output_type": "execute_result",
          "data": {
            "text/plain": [
              "1.0"
            ]
          },
          "metadata": {
            "tags": []
          },
          "execution_count": 29
        }
      ]
    },
    {
      "cell_type": "code",
      "metadata": {
        "id": "2PENMUZpl2LS",
        "colab_type": "code",
        "colab": {}
      },
      "source": [
        "#calling decision tree classifier\n",
        "from sklearn.tree import DecisionTreeClassifier"
      ],
      "execution_count": 0,
      "outputs": []
    },
    {
      "cell_type": "code",
      "metadata": {
        "id": "cRw-pnzHmHt1",
        "colab_type": "code",
        "colab": {}
      },
      "source": [
        "dclf=DecisionTreeClassifier()"
      ],
      "execution_count": 0,
      "outputs": []
    },
    {
      "cell_type": "code",
      "metadata": {
        "id": "B-pxw0LTmN-J",
        "colab_type": "code",
        "colab": {}
      },
      "source": [
        "#training decision tree\n",
        "dtrain=dclf.fit(train_data,train_label)"
      ],
      "execution_count": 0,
      "outputs": []
    },
    {
      "cell_type": "code",
      "metadata": {
        "id": "D3Q1JPqrmYrB",
        "colab_type": "code",
        "colab": {}
      },
      "source": [
        "#predicting \n",
        "dpredicting=dtrain.predict(test_data)"
      ],
      "execution_count": 0,
      "outputs": []
    },
    {
      "cell_type": "code",
      "metadata": {
        "id": "pf5TBHvrmloC",
        "colab_type": "code",
        "colab": {
          "base_uri": "https://localhost:8080/",
          "height": 34
        },
        "outputId": "d0cba5e1-620d-497c-8779-ddd7cc32fcf0"
      },
      "source": [
        "#accuracy score\n",
        "accuracy_score(test_label,dpredicting)"
      ],
      "execution_count": 36,
      "outputs": [
        {
          "output_type": "execute_result",
          "data": {
            "text/plain": [
              "0.9333333333333333"
            ]
          },
          "metadata": {
            "tags": []
          },
          "execution_count": 36
        }
      ]
    },
    {
      "cell_type": "code",
      "metadata": {
        "id": "sVmnTGxQmup8",
        "colab_type": "code",
        "colab": {}
      },
      "source": [
        "#compare dtree n knn\n",
        "import matplotlib.pyplot as plt"
      ],
      "execution_count": 0,
      "outputs": []
    },
    {
      "cell_type": "code",
      "metadata": {
        "id": "YidEskm3nJ9J",
        "colab_type": "code",
        "colab": {}
      },
      "source": [
        "#wdraw the graph"
      ],
      "execution_count": 0,
      "outputs": []
    }
  ]
}