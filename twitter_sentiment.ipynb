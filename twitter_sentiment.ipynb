{
  "nbformat": 4,
  "nbformat_minor": 0,
  "metadata": {
    "colab": {
      "name": "twitter_sentiment.ipynb",
      "version": "0.3.2",
      "provenance": [],
      "include_colab_link": true
    },
    "kernelspec": {
      "name": "python3",
      "display_name": "Python 3"
    }
  },
  "cells": [
    {
      "cell_type": "markdown",
      "metadata": {
        "id": "view-in-github",
        "colab_type": "text"
      },
      "source": [
        "<a href=\"https://colab.research.google.com/github/hsinha177/ML/blob/master/twitter_sentiment.ipynb\" target=\"_parent\"><img src=\"https://colab.research.google.com/assets/colab-badge.svg\" alt=\"Open In Colab\"/></a>"
      ]
    },
    {
      "cell_type": "code",
      "metadata": {
        "id": "di7plcK7bfZc",
        "colab_type": "code",
        "colab": {}
      },
      "source": [
        "from nltk.tokenize import sent_tokenize, word_tokenize\n",
        "from nltk.stem import PorterStemmer, WordNetLemmatizer\n",
        "import nltk\n",
        "import matplotlib.pyplot as plt\n",
        "import tweepy\n",
        "from textblob import TextBlob"
      ],
      "execution_count": 0,
      "outputs": []
    },
    {
      "cell_type": "code",
      "metadata": {
        "id": "dtZqx_0IeFZZ",
        "colab_type": "code",
        "colab": {}
      },
      "source": [
        "#all 4 authentication keys\n",
        "# to connect as OAuth handler or jump server/reverse proxy server\n",
        "consumer_key=\"C9qozAFbXUsR27ct4aQ3kSLU4\"\n",
        "consumer_sec=\"9rM7Lpk5AAG6l9MR3lo57IcJ3iHdm8Vo91aavNOp1azilYmk2n\"\n",
        "\n",
        "#from proxy server we need to connect to web server of twitter\n",
        "access_token=\"1381516250-hSxRPUCB8U01Km1Z7BJ5cQv22lQRzngQlO0bLRu\"\n",
        "access_sec=\"FXsYDRPr4jQTZWA6KwNOSian3fBS4OEzDjnUNBORS31Fe\""
      ],
      "execution_count": 0,
      "outputs": []
    },
    {
      "cell_type": "code",
      "metadata": {
        "id": "sJxv79UIO4G5",
        "colab_type": "code",
        "colab": {}
      },
      "source": [
        "#tweepy explore\n",
        "#connecting to jump server of tweepy\n",
        "auth=tweepy.OAuthHandler(consumer_key,consumer_sec)"
      ],
      "execution_count": 0,
      "outputs": []
    },
    {
      "cell_type": "code",
      "metadata": {
        "id": "eFrtL6t2POnF",
        "colab_type": "code",
        "colab": {}
      },
      "source": [
        "#now connecting to web server from jump server\n",
        "auth.set_access_token(access_token,access_sec)"
      ],
      "execution_count": 0,
      "outputs": []
    },
    {
      "cell_type": "code",
      "metadata": {
        "id": "2e4p3QL-Pdwu",
        "colab_type": "code",
        "colab": {}
      },
      "source": [
        "#now we can connect to API storage server of twitter\n",
        "api_connect=tweepy.API(auth)"
      ],
      "execution_count": 0,
      "outputs": []
    },
    {
      "cell_type": "code",
      "metadata": {
        "id": "ORSHpatvPsLv",
        "colab_type": "code",
        "colab": {}
      },
      "source": [
        "tweet_data=api_connect.search('indian budget 2019', count=46)"
      ],
      "execution_count": 0,
      "outputs": []
    },
    {
      "cell_type": "code",
      "metadata": {
        "id": "Q31RAIpNQB6I",
        "colab_type": "code",
        "colab": {}
      },
      "source": [
        "for tweet in tweet_data:\n",
        "  print(tweet.text) "
      ],
      "execution_count": 0,
      "outputs": []
    },
    {
      "cell_type": "code",
      "metadata": {
        "id": "3lzKZlUCQmNi",
        "colab_type": "code",
        "colab": {}
      },
      "source": [
        "pos=0\n",
        "neg=0\n",
        "neu=0\n",
        "for tweet in tweet_data:\n",
        "  analysis=TextBlob(tweet.text)  #here it will apply NLP\n",
        "  print(analysis.sentiment)\n",
        "  if analysis.sentiment.polarity>0:\n",
        "    print(\"Positive\")\n",
        "    pos=pos+1\n",
        "  elif analysis.sentiment.polarity<0:\n",
        "    print(\"Negative\")\n",
        "    neg=neg+1\n",
        "  else:\n",
        "    print(\"Neutral\")\n",
        "    neu=neu+1"
      ],
      "execution_count": 0,
      "outputs": []
    },
    {
      "cell_type": "code",
      "metadata": {
        "id": "ZrpPkEZ4WXrm",
        "colab_type": "code",
        "colab": {
          "base_uri": "https://localhost:8080/",
          "height": 521
        },
        "outputId": "87cb6470-ed53-4bee-c5bc-e4e3b35dc707"
      },
      "source": [
        "#plotting\n",
        "plt.xlabel(\"Tags\")\n",
        "plt.ylabel(\"Polarity\")\n",
        "plt.figure(1)\n",
        "plt.bar(['pos','neg','neu'],[pos,neg,neu])\n",
        "plt.figure(2)\n",
        "plt.pie([pos,neg,neu],labels=['pos','neg','neu'],explode=[0.1,0.1,0.1],shadow=True,autopct=\"%1.1f%%\")\n",
        "plt.show()"
      ],
      "execution_count": 46,
      "outputs": [
        {
          "output_type": "display_data",
          "data": {
            "image/png": "[encoded data removed]",
            "text/plain": [
              "<Figure size 432x288 with 1 Axes>"
            ]
          },
          "metadata": {
            "tags": []
          }
        },
        {
          "output_type": "display_data",
          "data": {
            "image/png": "[encoded data removed]",
            "text/plain": [
              "<Figure size 432x288 with 1 Axes>"
            ]
          },
          "metadata": {
            "tags": []
          }
        }
      ]
    }
  ]
}