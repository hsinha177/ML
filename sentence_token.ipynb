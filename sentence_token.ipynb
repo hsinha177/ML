{
  "nbformat": 4,
  "nbformat_minor": 0,
  "metadata": {
    "colab": {
      "name": "sentence_token.ipynb",
      "version": "0.3.2",
      "provenance": [],
      "include_colab_link": true
    },
    "kernelspec": {
      "name": "python3",
      "display_name": "Python 3"
    }
  },
  "cells": [
    {
      "cell_type": "markdown",
      "metadata": {
        "id": "view-in-github",
        "colab_type": "text"
      },
      "source": [
        "<a href=\"https://colab.research.google.com/github/hsinha177/ML/blob/master/sentence_token.ipynb\" target=\"_parent\"><img src=\"https://colab.research.google.com/assets/colab-badge.svg\" alt=\"Open In Colab\"/></a>"
      ]
    },
    {
      "cell_type": "code",
      "metadata": {
        "id": "e3Hq8sDUQiXo",
        "colab_type": "code",
        "colab": {}
      },
      "source": [
        "msg='''Hello! its is a greeting to sit in this session.\n",
        "Once, a fat,fluffy thirsty dog was lying beside a tree, he was so thirsty that his toungs were carring cracks. There was a crow nest above and that crewel crow was laughing over him, but the dog was so thirst that he didn't cared about the crow's creapy voice\n",
        "Later, finally the hot ball of fire melted & breeze went on for tour. The cold winds then started flowing in the enviroment. The tempreature suddendly dropped, this caused the crow to freeze & fall down from his castle.\n",
        "But the fortune has some leassons remaining for the crow. The crow was screaming right beside that dog. The dog with very kind; he holded that crow inside his lap & covered him with his\n",
        "fat & fluffy skin, giving him heat for his survival. Seeing this the crow was felt so humiliated that from very next day he helped the dog from escaping his thirst. \n",
        "Did you learn't the leason of the story?'''"
      ],
      "execution_count": 0,
      "outputs": []
    },
    {
      "cell_type": "code",
      "metadata": {
        "id": "L0tNVjKBT6kO",
        "colab_type": "code",
        "colab": {}
      },
      "source": [
        "import nltk\n",
        "from nltk.tokenize import sent_tokenize\n",
        "from nltk.tokenize import word_tokenize\n",
        "from nltk.corpus import stopwords"
      ],
      "execution_count": 0,
      "outputs": []
    },
    {
      "cell_type": "code",
      "metadata": {
        "id": "LpJfDi2KWEcT",
        "colab_type": "code",
        "colab": {
          "base_uri": "https://localhost:8080/",
          "height": 68
        },
        "outputId": "2a81092a-666f-4960-cf4f-147069da2924"
      },
      "source": [
        "nltk.download('punkt')"
      ],
      "execution_count": 7,
      "outputs": [
        {
          "output_type": "stream",
          "text": [
            "[nltk_data] Downloading package punkt to /root/nltk_data...\n",
            "[nltk_data]   Unzipping tokenizers/punkt.zip.\n"
          ],
          "name": "stdout"
        },
        {
          "output_type": "execute_result",
          "data": {
            "text/plain": [
              "True"
            ]
          },
          "metadata": {
            "tags": []
          },
          "execution_count": 7
        }
      ]
    },
    {
      "cell_type": "code",
      "metadata": {
        "id": "Kow4NAaoVDrj",
        "colab_type": "code",
        "colab": {
          "base_uri": "https://localhost:8080/",
          "height": 224
        },
        "outputId": "b9b35f6f-cdb0-47d2-86b0-cd10aba651ed"
      },
      "source": [
        "sent_tokenize(msg)"
      ],
      "execution_count": 8,
      "outputs": [
        {
          "output_type": "execute_result",
          "data": {
            "text/plain": [
              "['Hello!',\n",
              " 'its is a greeting to sit in this session.',\n",
              " 'Once, a fat,fluffy thirsty dog was lying beside a tree, he was so thirsty that his toungs were carring cracks.',\n",
              " \"There was a crow nest above and that crewel crow was laughing over him, but the dog was so thirst that he didn't cared about the crow's creapy voice\\nLater, finally the hot ball of fire melted & breeze went on for tour.\",\n",
              " 'The cold winds then started flowing in the enviroment.',\n",
              " 'The tempreature suddendly dropped, this caused the crow to freeze & fall down from his castle.',\n",
              " 'But the fortune has some leassons remaining for the crow.',\n",
              " 'The crow was screaming right beside that dog.',\n",
              " 'The dog with very kind; he holded that crow inside his lap & covered him with his\\nfat & fluffy skin, giving him heat for his survival.',\n",
              " 'Seeing this the crow was felt so humiliated that from very next day he helped the dog from escaping his thirst.',\n",
              " \"Did you learn't the leason of the story?\"]"
            ]
          },
          "metadata": {
            "tags": []
          },
          "execution_count": 8
        }
      ]
    },
    {
      "cell_type": "code",
      "metadata": {
        "id": "LOGMmG-CVzuk",
        "colab_type": "code",
        "colab": {}
      },
      "source": [
        "word=word_tokenize(msg)"
      ],
      "execution_count": 0,
      "outputs": []
    },
    {
      "cell_type": "code",
      "metadata": {
        "id": "AQXvqvkKYWoh",
        "colab_type": "code",
        "colab": {
          "base_uri": "https://localhost:8080/",
          "height": 34
        },
        "outputId": "acc88817-baad-4bd6-926c-524b7315105d"
      },
      "source": [
        "len(msg)"
      ],
      "execution_count": 11,
      "outputs": [
        {
          "output_type": "execute_result",
          "data": {
            "text/plain": [
              "921"
            ]
          },
          "metadata": {
            "tags": []
          },
          "execution_count": 11
        }
      ]
    },
    {
      "cell_type": "code",
      "metadata": {
        "id": "4kJaohqNYaKo",
        "colab_type": "code",
        "colab": {
          "base_uri": "https://localhost:8080/",
          "height": 34
        },
        "outputId": "e4e0a244-76f1-45b9-b536-4e9a60895c4a"
      },
      "source": [
        "len(word)"
      ],
      "execution_count": 13,
      "outputs": [
        {
          "output_type": "execute_result",
          "data": {
            "text/plain": [
              "195"
            ]
          },
          "metadata": {
            "tags": []
          },
          "execution_count": 13
        }
      ]
    },
    {
      "cell_type": "code",
      "metadata": {
        "id": "fmpC0C02Yfrz",
        "colab_type": "code",
        "colab": {}
      },
      "source": [
        "nlp=nltk.FreqDist(word)"
      ],
      "execution_count": 0,
      "outputs": []
    },
    {
      "cell_type": "code",
      "metadata": {
        "id": "OxhFKNxnZYrl",
        "colab_type": "code",
        "colab": {}
      },
      "source": [
        "import matplotlib.pyplot as plt"
      ],
      "execution_count": 0,
      "outputs": []
    },
    {
      "cell_type": "code",
      "metadata": {
        "id": "yd6aqMJeZdf5",
        "colab_type": "code",
        "colab": {
          "base_uri": "https://localhost:8080/",
          "height": 297
        },
        "outputId": "f88ada89-c3ee-4532-d830-a5f4c5a3484d"
      },
      "source": [
        "nlp.plot(20)"
      ],
      "execution_count": 21,
      "outputs": [
        {
          "output_type": "display_data",
          "data": {
            "image/png": "[encoded data removed]",
            "text/plain": [
              "<Figure size 432x288 with 1 Axes>"
            ]
          },
          "metadata": {
            "tags": []
          }
        }
      ]
    },
    {
      "cell_type": "code",
      "metadata": {
        "id": "eoJNc5_4ZfET",
        "colab_type": "code",
        "colab": {
          "base_uri": "https://localhost:8080/",
          "height": 315
        },
        "outputId": "e99d3652-4272-4eee-f9fd-aa32b2b060b8"
      },
      "source": [
        "removed_data=[i for i in word if i.lower() not in stopwords.words('english')]\n",
        "nlp1=nltk.FreqDist(removed_data)\n",
        "nlp1.plot(20)"
      ],
      "execution_count": 28,
      "outputs": [
        {
          "output_type": "display_data",
          "data": {
            "image/png": "[encoded data removed]",
            "text/plain": [
              "<Figure size 432x288 with 1 Axes>"
            ]
          },
          "metadata": {
            "tags": []
          }
        }
      ]
    },
    {
      "cell_type": "code",
      "metadata": {
        "id": "pATIyCxYZ8ZW",
        "colab_type": "code",
        "colab": {}
      },
      "source": [
        ""
      ],
      "execution_count": 0,
      "outputs": []
    }
  ]
}